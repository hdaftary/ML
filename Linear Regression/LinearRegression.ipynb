{
  "nbformat": 4,
  "nbformat_minor": 0,
  "metadata": {
    "colab": {
      "name": "LinearRegression.ipynb",
      "provenance": [],
      "authorship_tag": "ABX9TyMLwAbinWqOJosPM0G1XSn4"
    },
    "kernelspec": {
      "name": "python3",
      "display_name": "Python 3"
    },
    "language_info": {
      "name": "python"
    }
  },
  "cells": [
    {
      "cell_type": "markdown",
      "metadata": {
        "id": "fXTx1oMHuds8"
      },
      "source": [
        "Basic Probability Revision"
      ]
    },
    {
      "cell_type": "code",
      "metadata": {
        "colab": {
          "base_uri": "https://localhost:8080/"
        },
        "id": "83-PkJYfud_R",
        "outputId": "d4e3d460-2bba-4f50-d240-03ef5b87f020"
      },
      "source": [
        "import random\n",
        "\n",
        "\n",
        "def sample_x():\n",
        "    x1 = random.uniform(0.0, 1.0)\n",
        "    x2 = random.uniform(0.0, 1.0)\n",
        "    return max(x1, 2 * x2)\n",
        "\n",
        "\n",
        "def sample_x_x1():\n",
        "    x1 = random.uniform(0.0, 1.0)\n",
        "    x2 = random.uniform(0.0, 1.0)\n",
        "    return max(x1, 2 * x2) * x1, x1\n",
        "\n",
        "expectation_x = 0\n",
        "expectation_x2 = 0\n",
        "expectation_x_x1, expectation_x1 = 0, 0\n",
        "for i in range(1000000):\n",
        "    expectation_x += sample_x()\n",
        "    expectation_x2 += sample_x() ** 2\n",
        "    tmp1, tmp2 = sample_x_x1()\n",
        "    expectation_x_x1 += tmp1\n",
        "    expectation_x1 += tmp2\n",
        "\n",
        "expectation_x = expectation_x / 1000000\n",
        "expectation_x2 = expectation_x2 / 1000000\n",
        "expectation_x_x1 = expectation_x_x1 / 1000000\n",
        "expectation_x1 = expectation_x1 / 1000000\n",
        "\n",
        "print(\"Expectation of X is \", expectation_x)\n",
        "print(\"Variance of X is \", expectation_x2 - expectation_x**2)\n",
        "print(\"Covariance of (XX1) is \", expectation_x_x1 - expectation_x*expectation_x1)"
      ],
      "execution_count": 13,
      "outputs": [
        {
          "output_type": "stream",
          "text": [
            "Expectation of X is  1.0823378918519522\n",
            "Variance of X is  0.24435800546639053\n",
            "Covariance of (XX1) is  0.02132449809641679\n"
          ],
          "name": "stdout"
        }
      ]
    },
    {
      "cell_type": "markdown",
      "metadata": {
        "id": "RE7T4B_rubXr"
      },
      "source": [
        "Linear Regression Starts"
      ]
    },
    {
      "cell_type": "code",
      "metadata": {
        "id": "IhtFulrVd0I2"
      },
      "source": [
        "import json, requests, io\n",
        "import pandas as pd\n",
        "import numpy as np\n",
        "import matplotlib.pyplot as plt\n",
        "from scipy.stats import norm\n",
        "\n",
        "username = 'HDaftary'\n",
        "token = '<<secret key>>'\n",
        "session = requests.Session()\n",
        "session.auth = (username, token)\n",
        "\n",
        "# providing raw url to download csv from github\n",
        "csv_url = 'https://raw.githubusercontent.com/HDaftary97/ML/main/Linear%20Regression/covid19_metadata.csv'\n",
        "\n",
        "download = session.get(csv_url).content\n",
        "covid_meta_arr = np.genfromtxt(io.StringIO(download.decode('utf-8')), skip_header=1, delimiter=',', dtype=str)"
      ],
      "execution_count": 1,
      "outputs": []
    },
    {
      "cell_type": "code",
      "metadata": {
        "colab": {
          "base_uri": "https://localhost:8080/"
        },
        "id": "CU9n4OsJoH4z",
        "outputId": "075978ff-74dc-44c0-ce33-dcaaedd21a17"
      },
      "source": [
        "covid_meta_arr"
      ],
      "execution_count": 2,
      "outputs": [
        {
          "output_type": "execute_result",
          "data": {
            "text/plain": [
              "array([['65', 'M', 'Y'],\n",
              "       ['65', 'M', 'Y'],\n",
              "       ['65', 'M', 'Y'],\n",
              "       ['65', 'M', 'Y'],\n",
              "       ['74', 'M', 'N'],\n",
              "       ['74', 'M', 'N'],\n",
              "       ['74', 'M', 'N'],\n",
              "       ['29', 'F', 'Y'],\n",
              "       ['29', 'F', 'Y'],\n",
              "       ['73', 'F', 'N'],\n",
              "       ['73', 'F', 'N'],\n",
              "       ['73', 'F', 'N'],\n",
              "       ['56', 'M', 'Y'],\n",
              "       ['42', 'M', 'Y'],\n",
              "       ['35', 'M', 'Y'],\n",
              "       ['35', 'M', 'Y'],\n",
              "       ['35', 'M', 'Y'],\n",
              "       ['35', 'M', 'Y'],\n",
              "       ['35', 'M', 'Y'],\n",
              "       ['35', 'M', 'Y'],\n",
              "       ['35', 'M', 'Y'],\n",
              "       ['59', 'F', 'Y'],\n",
              "       ['54', 'M', 'Y'],\n",
              "       ['54', 'M', 'Y'],\n",
              "       ['54', 'M', 'Y'],\n",
              "       ['54', 'M', 'Y'],\n",
              "       ['54', 'M', 'Y'],\n",
              "       ['55', 'F', 'Y'],\n",
              "       ['55', 'F', 'Y'],\n",
              "       ['55', 'F', 'Y'],\n",
              "       ['55', 'F', 'Y'],\n",
              "       ['55', 'F', 'Y'],\n",
              "       ['55', 'F', 'Y'],\n",
              "       ['55', 'F', 'Y'],\n",
              "       ['55', 'F', 'Y'],\n",
              "       ['61', 'F', 'Y'],\n",
              "       ['61', 'F', 'Y'],\n",
              "       ['46', 'F', 'Y'],\n",
              "       ['78', 'F', 'N'],\n",
              "       ['47', 'M', 'Y'],\n",
              "       ['47', 'M', 'Y'],\n",
              "       ['47', 'M', 'Y'],\n",
              "       ['47', 'M', 'Y'],\n",
              "       ['67', 'F', 'Y'],\n",
              "       ['67', 'F', 'Y'],\n",
              "       ['36', 'M', 'N'],\n",
              "       ['36', 'M', 'N'],\n",
              "       ['36', 'M', 'N'],\n",
              "       ['46', 'F', 'Y'],\n",
              "       ['46', 'F', 'Y'],\n",
              "       ['25', 'F', 'Y'],\n",
              "       ['25', 'F', 'Y'],\n",
              "       ['61', 'M', 'Y'],\n",
              "       ['61', 'M', 'Y'],\n",
              "       ['61', 'M', 'Y'],\n",
              "       ['40', 'F', 'Y'],\n",
              "       ['84', 'M', 'Y'],\n",
              "       ['40', 'F', 'Y'],\n",
              "       ['40', 'F', 'Y'],\n",
              "       ['40', 'F', 'Y'],\n",
              "       ['50', 'M', 'Y'],\n",
              "       ['50', 'M', 'Y'],\n",
              "       ['80', 'F', 'Y'],\n",
              "       ['80', 'F', 'Y'],\n",
              "       ['80', 'F', 'Y'],\n",
              "       ['80', 'F', 'Y'],\n",
              "       ['60', 'M', 'Y'],\n",
              "       ['60', 'M', 'Y'],\n",
              "       ['60', 'M', 'Y'],\n",
              "       ['60', 'M', 'Y'],\n",
              "       ['31', 'F', 'Y'],\n",
              "       ['70', 'F', 'Y'],\n",
              "       ['70', 'F', 'Y'],\n",
              "       ['70', 'F', 'Y'],\n",
              "       ['40', 'F', 'N'],\n",
              "       ['40', 'F', 'N'],\n",
              "       ['40', 'F', 'N'],\n",
              "       ['71', 'F', 'Y'],\n",
              "       ['44', 'M', 'N'],\n",
              "       ['44', 'M', 'N'],\n",
              "       ['44', 'M', 'N'],\n",
              "       ['23', 'F', 'Y'],\n",
              "       ['23', 'F', 'Y'],\n",
              "       ['23', 'F', 'Y'],\n",
              "       ['72', 'F', 'N'],\n",
              "       ['72', 'F', 'N'],\n",
              "       ['72', 'F', 'N'],\n",
              "       ['72', 'F', 'N'],\n",
              "       ['72', 'F', 'N'],\n",
              "       ['29', 'F', 'Y'],\n",
              "       ['29', 'F', 'Y'],\n",
              "       ['78', 'F', 'N'],\n",
              "       ['78', 'F', 'N'],\n",
              "       ['50', 'M', 'N'],\n",
              "       ['50', 'M', 'N'],\n",
              "       ['50', 'M', 'N'],\n",
              "       ['83', 'M', 'N'],\n",
              "       ['55', 'M', 'Y'],\n",
              "       ['55', 'M', 'Y'],\n",
              "       ['55', 'M', 'Y'],\n",
              "       ['55', 'M', 'Y'],\n",
              "       ['55', 'M', 'Y'],\n",
              "       ['55', 'M', 'Y'],\n",
              "       ['55', 'M', 'Y'],\n",
              "       ['48', 'M', 'Y'],\n",
              "       ['48', 'M', 'Y'],\n",
              "       ['48', 'M', 'Y'],\n",
              "       ['27', 'M', 'Y'],\n",
              "       ['27', 'M', 'Y'],\n",
              "       ['27', 'M', 'Y'],\n",
              "       ['39', 'F', 'Y'],\n",
              "       ['39', 'F', 'Y'],\n",
              "       ['55', 'F', 'Y'],\n",
              "       ['55', 'F', 'Y'],\n",
              "       ['34', 'M', 'Y'],\n",
              "       ['34', 'M', 'Y'],\n",
              "       ['33', 'M', 'Y'],\n",
              "       ['33', 'M', 'Y'],\n",
              "       ['33', 'M', 'Y'],\n",
              "       ['33', 'M', 'Y'],\n",
              "       ['33', 'M', 'Y'],\n",
              "       ['51', 'M', 'Y'],\n",
              "       ['51', 'M', 'Y'],\n",
              "       ['51', 'M', 'Y'],\n",
              "       ['51', 'M', 'Y'],\n",
              "       ['71', 'F', 'Y'],\n",
              "       ['71', 'F', 'Y'],\n",
              "       ['46', 'M', 'Y'],\n",
              "       ['46', 'M', 'Y'],\n",
              "       ['46', 'M', 'Y'],\n",
              "       ['46', 'M', 'Y'],\n",
              "       ['46', 'M', 'Y'],\n",
              "       ['46', 'M', 'Y'],\n",
              "       ['46', 'M', 'Y'],\n",
              "       ['46', 'M', 'Y'],\n",
              "       ['76', 'M', 'Y'],\n",
              "       ['76', 'M', 'Y'],\n",
              "       ['76', 'M', 'Y'],\n",
              "       ['52', 'M', 'Y'],\n",
              "       ['52', 'M', 'Y'],\n",
              "       ['52', 'M', 'Y'],\n",
              "       ['52', 'M', 'Y'],\n",
              "       ['52', 'M', 'Y'],\n",
              "       ['52', 'M', 'N'],\n",
              "       ['52', 'M', 'N'],\n",
              "       ['61', 'M', 'N'],\n",
              "       ['61', 'M', 'N'],\n",
              "       ['63', 'F', 'Y'],\n",
              "       ['63', 'F', 'Y'],\n",
              "       ['61', 'F', 'Y'],\n",
              "       ['61', 'F', 'Y'],\n",
              "       ['61', 'F', 'Y'],\n",
              "       ['54', 'F', 'Y'],\n",
              "       ['62', 'M', 'Y'],\n",
              "       ['83', 'F', 'N'],\n",
              "       ['59', 'F', 'Y'],\n",
              "       ['78', 'F', 'Y'],\n",
              "       ['78', 'F', 'Y'],\n",
              "       ['78', 'F', 'Y'],\n",
              "       ['54', 'M', 'Y'],\n",
              "       ['54', 'M', 'Y'],\n",
              "       ['54', 'M', 'Y'],\n",
              "       ['74', 'F', 'Y'],\n",
              "       ['73', 'F', 'Y'],\n",
              "       ['67', 'F', 'N'],\n",
              "       ['67', 'F', 'N'],\n",
              "       ['78', 'F', 'Y'],\n",
              "       ['78', 'F', 'Y'],\n",
              "       ['81', 'M', 'N'],\n",
              "       ['81', 'M', 'N'],\n",
              "       ['94', 'M', 'N'],\n",
              "       ['34', 'M', 'Y'],\n",
              "       ['39', 'F', 'Y'],\n",
              "       ['44', 'M', 'N'],\n",
              "       ['44', 'M', 'N'],\n",
              "       ['56', 'F', 'Y'],\n",
              "       ['56', 'F', 'Y'],\n",
              "       ['56', 'F', 'Y'],\n",
              "       ['50', 'F', 'Y'],\n",
              "       ['49', 'M', 'Y'],\n",
              "       ['64', 'F', 'Y'],\n",
              "       ['64', 'F', 'Y'],\n",
              "       ['64', 'F', 'Y'],\n",
              "       ['80', 'M', 'N'],\n",
              "       ['80', 'M', 'N'],\n",
              "       ['78', 'F', 'Y'],\n",
              "       ['78', 'F', 'Y'],\n",
              "       ['39', 'F', 'Y'],\n",
              "       ['39', 'F', 'Y'],\n",
              "       ['39', 'F', 'Y'],\n",
              "       ['39', 'F', 'Y'],\n",
              "       ['75', 'M', 'Y'],\n",
              "       ['57', 'M', 'Y'],\n",
              "       ['30', 'M', 'Y'],\n",
              "       ['30', 'M', 'Y'],\n",
              "       ['30', 'M', 'Y'],\n",
              "       ['80', 'M', 'N'],\n",
              "       ['80', 'M', 'N'],\n",
              "       ['80', 'M', 'N'],\n",
              "       ['80', 'M', 'N'],\n",
              "       ['25', 'F', 'Y'],\n",
              "       ['25', 'F', 'Y'],\n",
              "       ['40', 'F', 'Y'],\n",
              "       ['40', 'F', 'Y'],\n",
              "       ['60', 'F', 'Y'],\n",
              "       ['60', 'F', 'Y'],\n",
              "       ['47', 'M', 'Y'],\n",
              "       ['47', 'M', 'Y'],\n",
              "       ['50', 'M', 'Y'],\n",
              "       ['50', 'M', 'Y'],\n",
              "       ['50', 'M', 'Y'],\n",
              "       ['21', 'F', 'N'],\n",
              "       ['67', 'F', 'N'],\n",
              "       ['67', 'F', 'N'],\n",
              "       ['35', 'F', 'Y'],\n",
              "       ['77', 'M', 'N'],\n",
              "       ['42', 'M', 'N'],\n",
              "       ['18', 'M', 'Y'],\n",
              "       ['18', 'M', 'Y'],\n",
              "       ['30', 'M', 'Y'],\n",
              "       ['40', 'F', 'Y'],\n",
              "       ['40', 'F', 'Y'],\n",
              "       ['40', 'F', 'Y'],\n",
              "       ['40', 'F', 'Y'],\n",
              "       ['70', 'F', 'Y'],\n",
              "       ['47', 'M', 'Y'],\n",
              "       ['25', 'M', 'Y'],\n",
              "       ['25', 'M', 'Y']], dtype='<U2')"
            ]
          },
          "metadata": {
            "tags": []
          },
          "execution_count": 2
        }
      ]
    },
    {
      "cell_type": "code",
      "metadata": {
        "id": "BQPiTgB6g1gk"
      },
      "source": [
        "covid_meta_arr[covid_meta_arr == 'F'] = 1\n",
        "covid_meta_arr[covid_meta_arr == 'M'] = 0\n",
        "\n",
        "covid_meta_arr[covid_meta_arr == 'Y'] = 1  # Survived\n",
        "covid_meta_arr[covid_meta_arr == 'N'] = 0\n",
        "\n",
        "y = covid_meta_arr[:, -1].astype('int')\n",
        "x = covid_meta_arr[:, [0, 1]].astype('int')"
      ],
      "execution_count": 3,
      "outputs": []
    },
    {
      "cell_type": "code",
      "metadata": {
        "id": "szfEIAq7lgOU"
      },
      "source": [
        "def get_mean_and_variance(X, y):\n",
        "    list0 = [X[index] for index, value in enumerate(y) if y[index] == 0]\n",
        "    list1 = [X[index] for index, value in enumerate(y) if y[index] == 1]\n",
        "\n",
        "    mu0 = np.mean(list0, axis=0)\n",
        "    mu1 = np.mean(list1, axis=0)\n",
        "\n",
        "    var0 = np.var(list0, axis=0)\n",
        "    var1 = np.var(list1, axis=0)\n",
        "\n",
        "    d = 2\n",
        "    assert mu0.shape == (d,)\n",
        "    assert mu1.shape == (d,)\n",
        "    assert var0.shape == (d,)\n",
        "    assert var1.shape == (d,)\n",
        "\n",
        "    return mu0, var0, mu1, var1"
      ],
      "execution_count": 4,
      "outputs": []
    },
    {
      "cell_type": "markdown",
      "metadata": {
        "id": "UJUXyY1PlunR"
      },
      "source": [
        "Inputs:\n",
        "1. X: a two dimensional Numpy array of size n * d, where n is the number of data points, and d the\n",
        "dimension of the feature vectors.\n",
        "2. y: a Numpy vector of length n. y[i] is a binary label corresponding to the data point X[i; :].\n",
        "\n",
        "Outputs:\n",
        "1. mu0: a Numpy vector of length d, mu0[j] is the mean of X[i; j] for all i where y[i] = 0. Basically,mu0[j] is the mean of the jth feature for all the negative data points.\n",
        "2. var0: a Numpy vector of length d, var0[j] is the variance of X[i; j] for all i where y[i] = 0.\n",
        "3. mu1: a Numpy vector of length d, mu1[j] is the mean of X[i; j] for all i where y[i] = 1.\n",
        "4. var1: a Numpy vector of length d, var1[j] is the variance of X[i; j] for all i where y[i] = 1."
      ]
    },
    {
      "cell_type": "code",
      "metadata": {
        "colab": {
          "base_uri": "https://localhost:8080/"
        },
        "id": "DstYjb8Olsnr",
        "outputId": "e54d7a55-7c93-4208-82c6-223b5f314fef"
      },
      "source": [
        "mu0, var0, mu1, var1 = get_mean_and_variance(x, y)\n",
        "print(\"mu0 is \", mu0, \"\\nvar0 is \", var0, \"\\nmu1 is \", mu1, \"\\nvar1 is \", var1)"
      ],
      "execution_count": 5,
      "outputs": [
        {
          "output_type": "stream",
          "text": [
            "mu0 is  [63.38  0.4 ] \n",
            "var0 is  [2.935956e+02 2.400000e-01] \n",
            "mu1 is  [50.51685393  0.47191011] \n",
            "var1 is  [232.66544628   0.24921096]\n"
          ],
          "name": "stdout"
        }
      ]
    },
    {
      "cell_type": "markdown",
      "metadata": {
        "id": "NqB7u5iDmxyY"
      },
      "source": [
        "For each feature j, plot the Gaussian distribution with mean mu0[j] and variance var0[j] in black color. On the same graph, plot the Gaussian distribution with mean mu1[j] and variance var1[j] in blue. "
      ]
    },
    {
      "cell_type": "code",
      "metadata": {
        "colab": {
          "base_uri": "https://localhost:8080/",
          "height": 551
        },
        "id": "YZNMq-rUmiCz",
        "outputId": "6d8eb01d-3f51-44e4-8f09-f2fc9e713e7b"
      },
      "source": [
        "age = np.sort(np.reshape(x[:, [0]], -1))  # or np.sort(x[:, [0]].squeeze())\n",
        "gender = np.sort(np.reshape(x[:, [1]], -1))\n",
        "\n",
        "plt.figure()\n",
        "plt.plot(gender, norm.pdf(gender, mu0[1], np.sqrt(var0[1])), color='black')\n",
        "plt.plot(gender, norm.pdf(gender, mu1[1], np.sqrt(var1[1])), color='blue')\n",
        "plt.xlabel('Gender', fontsize=15)\n",
        "\n",
        "plt.figure()\n",
        "plt.plot(age, norm.pdf(age, mu0[0], np.sqrt(var0[0])), color='black')\n",
        "plt.plot(age, norm.pdf(age, mu1[0], np.sqrt(var1[0])), color='blue')\n",
        "plt.xlabel('Age', fontsize=15)\n",
        "plt.show()"
      ],
      "execution_count": 6,
      "outputs": [
        {
          "output_type": "display_data",
          "data": {
            "image/png": "[encoded data removed]",
            "text/plain": [
              "<Figure size 432x288 with 1 Axes>"
            ]
          },
          "metadata": {
            "tags": [],
            "needs_background": "light"
          }
        },
        {
          "output_type": "display_data",
          "data": {
            "image/png": "[encoded data removed]",
            "text/plain": [
              "<Figure size 432x288 with 1 Axes>"
            ]
          },
          "metadata": {
            "tags": [],
            "needs_background": "light"
          }
        }
      ]
    },
    {
      "cell_type": "markdown",
      "metadata": {
        "id": "cMbK_JVinaQL"
      },
      "source": [
        "Since the gender values are binary discrete (exactly 0 for male or 1 for female), and Gaussian Distribution is used for continuous variables, it is not a good idea to approximate gender by a Gaussian distribution\n",
        "\n",
        "On the other hand, we can say that age can be approximated to be a Gaussian distribution, which is\n",
        "evident from the age plot."
      ]
    },
    {
      "cell_type": "markdown",
      "metadata": {
        "id": "HjVJyYHcr8u0"
      },
      "source": [
        "The first row is the csv header. The second row contains the aggregated counts of the confirmed positive cases in the US. The third row contains the aggregated counts of deaths in the US."
      ]
    },
    {
      "cell_type": "code",
      "metadata": {
        "id": "iginC8RFnhaL"
      },
      "source": [
        "csv_url = 'https://raw.githubusercontent.com/HDaftary97/ML/main/Linear%20Regression/covid19_time_series.csv'\n",
        "\n",
        "download = session.get(csv_url).content\n",
        "df = pd.read_csv(io.StringIO(download.decode('utf-8')))\n",
        "df1 = pd.read_csv(io.StringIO(download.decode('utf-8'))) # for further plots\n",
        "df.drop(df.columns[0], axis=1, inplace=True)\n",
        "\n",
        "x = df.iloc[0].to_numpy()\n",
        "y = df.iloc[1].to_numpy()"
      ],
      "execution_count": 7,
      "outputs": []
    },
    {
      "cell_type": "code",
      "metadata": {
        "colab": {
          "base_uri": "https://localhost:8080/",
          "height": 157
        },
        "id": "8pPE4D7XoBXj",
        "outputId": "0b1eb737-dbf9-4eb7-f188-7800bb0cf7c7"
      },
      "source": [
        "df"
      ],
      "execution_count": 8,
      "outputs": [
        {
          "output_type": "execute_result",
          "data": {
            "text/html": [
              "<div>\n",
              "<style scoped>\n",
              "    .dataframe tbody tr th:only-of-type {\n",
              "        vertical-align: middle;\n",
              "    }\n",
              "\n",
              "    .dataframe tbody tr th {\n",
              "        vertical-align: top;\n",
              "    }\n",
              "\n",
              "    .dataframe thead th {\n",
              "        text-align: right;\n",
              "    }\n",
              "</style>\n",
              "<table border=\"1\" class=\"dataframe\">\n",
              "  <thead>\n",
              "    <tr style=\"text-align: right;\">\n",
              "      <th></th>\n",
              "      <th>1/22/20</th>\n",
              "      <th>1/23/20</th>\n",
              "      <th>1/24/20</th>\n",
              "      <th>1/25/20</th>\n",
              "      <th>1/26/20</th>\n",
              "      <th>1/27/20</th>\n",
              "      <th>1/28/20</th>\n",
              "      <th>1/29/20</th>\n",
              "      <th>1/30/20</th>\n",
              "      <th>1/31/20</th>\n",
              "      <th>2/1/20</th>\n",
              "      <th>2/2/20</th>\n",
              "      <th>2/3/20</th>\n",
              "      <th>2/4/20</th>\n",
              "      <th>2/5/20</th>\n",
              "      <th>2/6/20</th>\n",
              "      <th>2/7/20</th>\n",
              "      <th>2/8/20</th>\n",
              "      <th>2/9/20</th>\n",
              "      <th>2/10/20</th>\n",
              "      <th>2/11/20</th>\n",
              "      <th>2/12/20</th>\n",
              "      <th>2/13/20</th>\n",
              "      <th>2/14/20</th>\n",
              "      <th>2/15/20</th>\n",
              "      <th>2/16/20</th>\n",
              "      <th>2/17/20</th>\n",
              "      <th>2/18/20</th>\n",
              "      <th>2/19/20</th>\n",
              "      <th>2/20/20</th>\n",
              "      <th>2/21/20</th>\n",
              "      <th>2/22/20</th>\n",
              "      <th>2/23/20</th>\n",
              "      <th>2/24/20</th>\n",
              "      <th>2/25/20</th>\n",
              "      <th>2/26/20</th>\n",
              "      <th>2/27/20</th>\n",
              "      <th>2/28/20</th>\n",
              "      <th>2/29/20</th>\n",
              "      <th>3/1/20</th>\n",
              "      <th>...</th>\n",
              "      <th>7/20/20</th>\n",
              "      <th>7/21/20</th>\n",
              "      <th>7/22/20</th>\n",
              "      <th>7/23/20</th>\n",
              "      <th>7/24/20</th>\n",
              "      <th>7/25/20</th>\n",
              "      <th>7/26/20</th>\n",
              "      <th>7/27/20</th>\n",
              "      <th>7/28/20</th>\n",
              "      <th>7/29/20</th>\n",
              "      <th>7/30/20</th>\n",
              "      <th>7/31/20</th>\n",
              "      <th>8/1/20</th>\n",
              "      <th>8/2/20</th>\n",
              "      <th>8/3/20</th>\n",
              "      <th>8/4/20</th>\n",
              "      <th>8/5/20</th>\n",
              "      <th>8/6/20</th>\n",
              "      <th>8/7/20</th>\n",
              "      <th>8/8/20</th>\n",
              "      <th>8/9/20</th>\n",
              "      <th>8/10/20</th>\n",
              "      <th>8/11/20</th>\n",
              "      <th>8/12/20</th>\n",
              "      <th>8/13/20</th>\n",
              "      <th>8/14/20</th>\n",
              "      <th>8/15/20</th>\n",
              "      <th>8/16/20</th>\n",
              "      <th>8/17/20</th>\n",
              "      <th>8/18/20</th>\n",
              "      <th>8/19/20</th>\n",
              "      <th>8/20/20</th>\n",
              "      <th>8/21/20</th>\n",
              "      <th>8/22/20</th>\n",
              "      <th>8/23/20</th>\n",
              "      <th>8/24/20</th>\n",
              "      <th>8/25/20</th>\n",
              "      <th>8/26/20</th>\n",
              "      <th>8/27/20</th>\n",
              "      <th>8/28/20</th>\n",
              "    </tr>\n",
              "  </thead>\n",
              "  <tbody>\n",
              "    <tr>\n",
              "      <th>0</th>\n",
              "      <td>1</td>\n",
              "      <td>1</td>\n",
              "      <td>2</td>\n",
              "      <td>2</td>\n",
              "      <td>5</td>\n",
              "      <td>5</td>\n",
              "      <td>5</td>\n",
              "      <td>5</td>\n",
              "      <td>5</td>\n",
              "      <td>7</td>\n",
              "      <td>8</td>\n",
              "      <td>8</td>\n",
              "      <td>11</td>\n",
              "      <td>11</td>\n",
              "      <td>11</td>\n",
              "      <td>11</td>\n",
              "      <td>11</td>\n",
              "      <td>11</td>\n",
              "      <td>11</td>\n",
              "      <td>11</td>\n",
              "      <td>12</td>\n",
              "      <td>12</td>\n",
              "      <td>13</td>\n",
              "      <td>13</td>\n",
              "      <td>13</td>\n",
              "      <td>13</td>\n",
              "      <td>13</td>\n",
              "      <td>13</td>\n",
              "      <td>13</td>\n",
              "      <td>13</td>\n",
              "      <td>15</td>\n",
              "      <td>15</td>\n",
              "      <td>15</td>\n",
              "      <td>15</td>\n",
              "      <td>15</td>\n",
              "      <td>15</td>\n",
              "      <td>16</td>\n",
              "      <td>16</td>\n",
              "      <td>24</td>\n",
              "      <td>30</td>\n",
              "      <td>...</td>\n",
              "      <td>3834677</td>\n",
              "      <td>3899211</td>\n",
              "      <td>3970121</td>\n",
              "      <td>4038816</td>\n",
              "      <td>4112531</td>\n",
              "      <td>4178970</td>\n",
              "      <td>4233923</td>\n",
              "      <td>4290337</td>\n",
              "      <td>4356206</td>\n",
              "      <td>4426982</td>\n",
              "      <td>4495015</td>\n",
              "      <td>4562107</td>\n",
              "      <td>4620592</td>\n",
              "      <td>4668172</td>\n",
              "      <td>4713540</td>\n",
              "      <td>4771080</td>\n",
              "      <td>4823890</td>\n",
              "      <td>4883582</td>\n",
              "      <td>4941755</td>\n",
              "      <td>4997929</td>\n",
              "      <td>5044864</td>\n",
              "      <td>5094400</td>\n",
              "      <td>5141208</td>\n",
              "      <td>5197411</td>\n",
              "      <td>5248958</td>\n",
              "      <td>5313252</td>\n",
              "      <td>5361165</td>\n",
              "      <td>5403213</td>\n",
              "      <td>5438325</td>\n",
              "      <td>5483388</td>\n",
              "      <td>5529824</td>\n",
              "      <td>5573847</td>\n",
              "      <td>5622470</td>\n",
              "      <td>5667070</td>\n",
              "      <td>5701645</td>\n",
              "      <td>5739536</td>\n",
              "      <td>5777710</td>\n",
              "      <td>5821819</td>\n",
              "      <td>5867785</td>\n",
              "      <td>5913941</td>\n",
              "    </tr>\n",
              "    <tr>\n",
              "      <th>1</th>\n",
              "      <td>0</td>\n",
              "      <td>0</td>\n",
              "      <td>0</td>\n",
              "      <td>0</td>\n",
              "      <td>0</td>\n",
              "      <td>0</td>\n",
              "      <td>0</td>\n",
              "      <td>0</td>\n",
              "      <td>0</td>\n",
              "      <td>0</td>\n",
              "      <td>0</td>\n",
              "      <td>0</td>\n",
              "      <td>0</td>\n",
              "      <td>0</td>\n",
              "      <td>0</td>\n",
              "      <td>0</td>\n",
              "      <td>0</td>\n",
              "      <td>0</td>\n",
              "      <td>0</td>\n",
              "      <td>0</td>\n",
              "      <td>0</td>\n",
              "      <td>0</td>\n",
              "      <td>0</td>\n",
              "      <td>0</td>\n",
              "      <td>0</td>\n",
              "      <td>0</td>\n",
              "      <td>0</td>\n",
              "      <td>0</td>\n",
              "      <td>0</td>\n",
              "      <td>0</td>\n",
              "      <td>0</td>\n",
              "      <td>0</td>\n",
              "      <td>0</td>\n",
              "      <td>0</td>\n",
              "      <td>0</td>\n",
              "      <td>0</td>\n",
              "      <td>0</td>\n",
              "      <td>0</td>\n",
              "      <td>1</td>\n",
              "      <td>1</td>\n",
              "      <td>...</td>\n",
              "      <td>141715</td>\n",
              "      <td>142824</td>\n",
              "      <td>144035</td>\n",
              "      <td>145156</td>\n",
              "      <td>146279</td>\n",
              "      <td>147180</td>\n",
              "      <td>147657</td>\n",
              "      <td>148782</td>\n",
              "      <td>150150</td>\n",
              "      <td>151586</td>\n",
              "      <td>152802</td>\n",
              "      <td>154048</td>\n",
              "      <td>155159</td>\n",
              "      <td>155565</td>\n",
              "      <td>156104</td>\n",
              "      <td>157482</td>\n",
              "      <td>158854</td>\n",
              "      <td>160104</td>\n",
              "      <td>161347</td>\n",
              "      <td>162423</td>\n",
              "      <td>162938</td>\n",
              "      <td>163463</td>\n",
              "      <td>164527</td>\n",
              "      <td>166034</td>\n",
              "      <td>167110</td>\n",
              "      <td>168452</td>\n",
              "      <td>169481</td>\n",
              "      <td>170052</td>\n",
              "      <td>170497</td>\n",
              "      <td>171821</td>\n",
              "      <td>173177</td>\n",
              "      <td>174255</td>\n",
              "      <td>175367</td>\n",
              "      <td>176350</td>\n",
              "      <td>176800</td>\n",
              "      <td>177245</td>\n",
              "      <td>178486</td>\n",
              "      <td>179708</td>\n",
              "      <td>180824</td>\n",
              "      <td>181800</td>\n",
              "    </tr>\n",
              "  </tbody>\n",
              "</table>\n",
              "<p>2 rows × 220 columns</p>\n",
              "</div>"
            ],
            "text/plain": [
              "   1/22/20  1/23/20  1/24/20  1/25/20  ...  8/25/20  8/26/20  8/27/20  8/28/20\n",
              "0        1        1        2        2  ...  5777710  5821819  5867785  5913941\n",
              "1        0        0        0        0  ...   178486   179708   180824   181800\n",
              "\n",
              "[2 rows x 220 columns]"
            ]
          },
          "metadata": {
            "tags": []
          },
          "execution_count": 8
        }
      ]
    },
    {
      "cell_type": "code",
      "metadata": {
        "id": "1UW62pzqoVOK"
      },
      "source": [
        "from sklearn.linear_model import LinearRegression\n",
        "def learn_reg_params(x, y):\n",
        "    n = x.shape[0]\n",
        "    assert x.shape == (n,)\n",
        "    assert y.shape == (n,)\n",
        "    arr = [x[i:i + 7] for i in range(len(x) - 7)]\n",
        "    x_t = np.vstack(arr)\n",
        "\n",
        "    arr = [y[i:i + 7] for i in range(len(x) - 7)]\n",
        "    y_t = np.vstack(arr)\n",
        "\n",
        "    training_data = np.concatenate((x_t, y_t), axis=1)\n",
        "    assert training_data.shape == (n - 7, 14)\n",
        "    X_ = np.concatenate((training_data, np.ones(n - 7).reshape(-1, 1)), axis=1)\n",
        "\n",
        "    # (X.T*X)-1X.T*Y -> closed form solution for linear regression\n",
        "    answer = np.dot(np.linalg.inv(np.dot(X_.T, X_)), np.dot(X_.T, y[7:]))\n",
        "    coeffs = answer[:-1]\n",
        "    intercept = answer[-1]\n",
        "    return coeffs, intercept, training_data\n",
        "    # reg = LinearRegression().fit(training_data, y[7:])\n",
        "    # return reg.coef_, reg.intercept_"
      ],
      "execution_count": 9,
      "outputs": []
    },
    {
      "cell_type": "code",
      "metadata": {
        "colab": {
          "base_uri": "https://localhost:8080/"
        },
        "id": "X37bL2I5oQOb",
        "outputId": "e4952eb6-989f-4615-d6af-240ac0071d0b"
      },
      "source": [
        "weights, intercept, training_data = learn_reg_params(x, y)\n",
        "print(\"weight matrix is \", weights, \"\\n intercept is \", intercept)"
      ],
      "execution_count": 10,
      "outputs": [
        {
          "output_type": "stream",
          "text": [
            "weight matrix is  [-8.47878910e-05 -2.94346036e-03 -1.33508732e-02  2.97430029e-02\n",
            " -1.07181359e-02 -5.97868833e-03  3.32971822e-03 -4.98447206e-01\n",
            "  6.78640544e-01 -9.27692589e-02 -3.68951681e-01  6.02420239e-01\n",
            " -1.06486597e+00  1.74178344e+00] \n",
            " intercept is  58.15728939539986\n"
          ],
          "name": "stdout"
        }
      ]
    },
    {
      "cell_type": "markdown",
      "metadata": {
        "id": "PXIgpupKqKq8"
      },
      "source": [
        "Visualize the actual and predicted death values yt and ^yt (for 8 <= t <= n). Display yt as a function of t and ^yt as a function of t on the same graph. Please zoom in a bit to see red dots as it is training data so error will be very very less"
      ]
    },
    {
      "cell_type": "code",
      "metadata": {
        "colab": {
          "base_uri": "https://localhost:8080/",
          "height": 315
        },
        "id": "nC1we0aiq9kl",
        "outputId": "fcb0a891-2211-4378-e73f-149530e576a7"
      },
      "source": [
        "# Using the formula Y = X.W + b, going to give same result as sklearn_model.predict(training_data)\n",
        "predictions = training_data.dot(weights) + intercept\n",
        "actual = y[7:]\n",
        "time = pd.to_datetime(df1.iloc[0][8:].index)\n",
        "plt.figure()\n",
        "plt.scatter(time, actual, color='red')\n",
        "plt.scatter(time, predictions, color='blue')\n",
        "plt.xlabel('Day', fontsize=15)\n",
        "plt.ylabel('Predictions (in blue) & Actual (in red)', fontsize=15)\n",
        "plt.show()\n",
        "errors = actual - predictions\n",
        "errors = np.sort(errors)"
      ],
      "execution_count": 11,
      "outputs": [
        {
          "output_type": "display_data",
          "data": {
            "image/png": "[encoded data removed]",
            "text/plain": [
              "<Figure size 432x288 with 1 Axes>"
            ]
          },
          "metadata": {
            "tags": [],
            "needs_background": "light"
          }
        }
      ]
    },
    {
      "cell_type": "markdown",
      "metadata": {
        "id": "--p4pNMJtjdh"
      },
      "source": [
        "Use matplotlib.pyplot.hist to plot the distribution of yt - ^yt (for 8 <= t <= n). On the same plot, plot the Gaussian function that approximates this distribution."
      ]
    },
    {
      "cell_type": "code",
      "metadata": {
        "colab": {
          "base_uri": "https://localhost:8080/",
          "height": 300
        },
        "id": "2tsWlgVAtFQ3",
        "outputId": "fdd7fab5-4919-4bda-ad0a-6182e437c629"
      },
      "source": [
        "mu, std = np.mean(errors), np.std(errors)\n",
        "plt.figure()\n",
        "# Plot the histogram.\n",
        "plt.hist(errors, density=True, color='green')\n",
        "\n",
        "# Plot the PDF.\n",
        "plt.plot(errors, norm.pdf(errors, mu, std))\n",
        "plt.xlabel('Error', fontsize=15)\n",
        "title = \"Fit results: mu = %.2f,  std = %.2f\" % (mu.item(), std.item())\n",
        "plt.title(title)\n",
        "plt.show()"
      ],
      "execution_count": 12,
      "outputs": [
        {
          "output_type": "display_data",
          "data": {
            "image/png": "[encoded data removed]",
            "text/plain": [
              "<Figure size 432x288 with 1 Axes>"
            ]
          },
          "metadata": {
            "tags": [],
            "needs_background": "light"
          }
        }
      ]
    }
  ]
}
